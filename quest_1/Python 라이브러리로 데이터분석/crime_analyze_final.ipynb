{
 "cells": [
  {
   "cell_type": "code",
   "execution_count": null,
   "metadata": {},
   "outputs": [],
   "source": [
    "import pandas as pd\n",
    "#import numpy as np 과제에서 numpy를 사용하지 않기에 불러오지않음.\n",
    "\n",
    "crime_excel= '관서별 5대범죄 발생 및 검거.xlsx'\n",
    "\n",
    "# 엑셀파일을 가져와서 데이터프레임으로 만들기\n",
    "df = pd.read_excel(crime_excel)\n",
    "# 데이터프레임 출력\n",
    "df"
   ]
  },
  {
   "cell_type": "code",
   "execution_count": null,
   "metadata": {},
   "outputs": [],
   "source": [
    "# 각 경찰서(`관서명`)를 해당 구 이름으로 매핑하여 '구별'이라는 새로운 column을 생성하고, DataFrame을 출력해주세요.\n",
    "# 매칭되지 않는 경찰서명에 대해서는 기본값 `'구 없음'`을 할당합니다.\n",
    "\n",
    "# 관서명과 구 이름 간의 매핑 딕셔너리\n",
    "mapping_dict = {\n",
    "    '서대문서': '서대문구', '수서서': '강남구', '강서서': '강서구', '서초서': '서초구',\n",
    "    '서부서': '은평구', '중부서': '중구', '종로서': '종로구', '남대문서': '중구',\n",
    "    '혜화서': '종로구', '용산서': '용산구', '성북서': '성북구', '동대문서': '동대문구',\n",
    "    '마포서': '마포구', '영등포서': '영등포구', '성동서': '성동구', '동작서': '동작구',\n",
    "    '광진서': '광진구', '강북서': '강북구', '금천서': '금천구', '중랑서': '중랑구',\n",
    "    '강남서': '강남구', '관악서': '관악구', '강동서': '강동구', '종암서': '성북구', \n",
    "    '구로서': '구로구', '양천서': '양천구', '송파서': '송파구', '노원서': '노원구', \n",
    "    '방배서': '서초구', '은평서': '은평구', '도봉서': '도봉구'\n",
    "}\n",
    "\n",
    "# '관서명' 칼럼을 '구별' 칼럼으로 매핑\n",
    "df['구별'] = df['관서명'].map(mapping_dict).fillna('구 없음')\n",
    "\n",
    "df"
   ]
  },
  {
   "cell_type": "code",
   "execution_count": null,
   "metadata": {},
   "outputs": [],
   "source": [
    "# pivot_table 을 사용하여 관서별 데이터를 구별 데이터로 변경하고, 같은 구의 경우에는 sum을 적용하여 더해주세요. (index : 관서명 -> 구별)\n",
    "# pivot_table을 사용하여 구별로 데이터 집\n",
    "\n",
    "# 구별과 관서명을 제외한 모든 컬럼 사용\n",
    "df_by_district = pd.pivot_table(df,\n",
    "                               index='구별',\n",
    "                               values=df.columns.drop(['구별', '관서명']),\n",
    "                               aggfunc='sum')\n",
    "\n",
    "df_by_district"
   ]
  },
  {
   "cell_type": "code",
   "execution_count": null,
   "metadata": {},
   "outputs": [],
   "source": [
    "# '구 없음' 행을 삭제\n",
    "df_by_district = df_by_district.drop('구 없음')\n",
    "\n",
    "df_by_district"
   ]
  },
  {
   "cell_type": "code",
   "execution_count": null,
   "metadata": {},
   "outputs": [],
   "source": [
    "# 각 범죄 유형별 검거율 계산 및 새로운 컬럼 추가\n",
    "df_by_district['강간검거율'] = (df_by_district['강간(검거)'] / df_by_district['강간(발생)']) * 100\n",
    "df_by_district['강도검거율'] = (df_by_district['강도(검거)'] / df_by_district['강도(발생)']) * 100\n",
    "df_by_district['살인검거율'] = (df_by_district['살인(검거)'] / df_by_district['살인(발생)']) * 100\n",
    "df_by_district['절도검거율'] = (df_by_district['절도(검거)'] / df_by_district['절도(발생)']) * 100\n",
    "df_by_district['폭력검거율'] = (df_by_district['폭력(검거)'] / df_by_district['폭력(발생)']) * 100\n",
    "df_by_district['검거율'] = (df_by_district['소계(검거)'] / df_by_district['소계(발생)']) * 100\n",
    "\n",
    "df_by_district"
   ]
  },
  {
   "cell_type": "code",
   "execution_count": null,
   "metadata": {},
   "outputs": [],
   "source": [
    "# 여러 컬럼을 del로 삭제\n",
    "del df_by_district['강간(검거)']\n",
    "del df_by_district['강도(검거)']\n",
    "del df_by_district['살인(검거)']\n",
    "del df_by_district['절도(검거)']\n",
    "del df_by_district['폭력(검거)']\n",
    "del df_by_district['소계(발생)']\n",
    "del df_by_district['소계(검거)']\n",
    "\n",
    "df_by_district"
   ]
  },
  {
   "cell_type": "code",
   "execution_count": null,
   "metadata": {},
   "outputs": [],
   "source": [
    "# 컬럼명 변경\n",
    "df_by_district = df_by_district.rename(columns={\n",
    "    '강간(발생)': '강간',\n",
    "    '강도(발생)': '강도',\n",
    "    '살인(발생)': '살인',\n",
    "    '절도(발생)': '절도',\n",
    "    '폭력(발생)': '폭력'\n",
    "})\n",
    "\n",
    "df_by_district"
   ]
  },
  {
   "cell_type": "code",
   "execution_count": null,
   "metadata": {},
   "outputs": [],
   "source": [
    "pop_url = 'https://drive.google.com/uc?id=1fsyI1vM8wNtu-UZhlQ2XvLSRl3tpfYYJ' \n",
    "\n",
    "# 인구 데이터 파일 불러오기\n",
    "pop_df = pd.read_csv(pop_url, index_col='구별')\n",
    "\n",
    "pop_df\n"
   ]
  },
  {
   "cell_type": "code",
   "execution_count": null,
   "metadata": {},
   "outputs": [],
   "source": [
    "# df_by_district와 pop_df를 join으로 병합\n",
    "df_merged = df_by_district.join(pop_df)\n",
    "\n",
    "df_merged\n"
   ]
  },
  {
   "cell_type": "code",
   "execution_count": null,
   "metadata": {},
   "outputs": [],
   "source": [
    "# 검거율 기준으로 오름차순 정렬\n",
    "df_merged_sorted = df_merged.sort_values(by='검거율', ascending=True)\n",
    "\n",
    "df_merged_sorted"
   ]
  },
  {
   "cell_type": "code",
   "execution_count": null,
   "metadata": {},
   "outputs": [],
   "source": []
  }
 ],
 "metadata": {
  "kernelspec": {
   "display_name": "Python 3",
   "language": "python",
   "name": "python3"
  },
  "language_info": {
   "codemirror_mode": {
    "name": "ipython",
    "version": 3
   },
   "file_extension": ".py",
   "mimetype": "text/x-python",
   "name": "python",
   "nbconvert_exporter": "python",
   "pygments_lexer": "ipython3",
   "version": "3.13.0"
  }
 },
 "nbformat": 4,
 "nbformat_minor": 2
}
